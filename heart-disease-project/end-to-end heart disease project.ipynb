{
 "cells": [
  {
   "cell_type": "markdown",
   "id": "044b9c7a",
   "metadata": {},
   "source": [
    "# Predicting Heart Disease with Machine learning\n",
    "\n",
    "We are going to predict whether or not a patient has heart disease given a set of medical attributes, using the following approach:\n",
    "\n",
    "1. Problem Definition\n",
    "2. Data\n",
    "3. Evaluation\n",
    "4. Exploration\n",
    "5. Modelling\n",
    "6. Experimentation\n",
    "\n",
    "## 1. Problem Definition\n",
    "> Given clinical attributes about a patient, can we predict whether or not they have heart disease?\n",
    "\n",
    "## 2. Data\n",
    "Data can be found here:<br>\n",
    "https://archive.ics.uci.edu/ml/datasets/Heart+Disease <br>\n",
    "https://www.kaggle.com/ronitf/heart-disease-uci\n",
    "\n",
    "0. age (years)\n",
    "1. sex (1 = male; 2 = female)\n",
    "2. chest pain type (4 values)\n",
    "3. resting blood pressure\n",
    "4. serum cholestoral in mg/dl\n",
    "5. fasting blood sugar > 120 mg/dl\n",
    "6. resting electrocardiographic results (values 0,1,2)\n",
    "7. maximum heart rate achieved\n",
    "8. exercise induced angina\n",
    "9. oldpeak = ST depression induced by exercise relative to rest\n",
    "10. the slope of the peak exercise ST segment\n",
    "11. number of major vessels (0-3) colored by flourosopy\n",
    "12. thal: 3 = normal; 6 = fixed defect; 7 = reversable defect\n",
    "13. target variable (1 = heart disearse; 0 != heart disease)\n",
    "\n",
    "## 3. Evaluation\n",
    "> If we can produce a 95% accuracy rate whether or not a patient has heart disease during proof of concept, we can consider pursuing the project\n",
    "\n",
    "## 4. Exploration\n"
   ]
  },
  {
   "cell_type": "markdown",
   "id": "0e4a5668",
   "metadata": {},
   "source": [
    "### Preparing the tools"
   ]
  },
  {
   "cell_type": "code",
   "execution_count": 122,
   "id": "191bc269",
   "metadata": {},
   "outputs": [],
   "source": [
    "# EDA libraries\n",
    "import numpy as np\n",
    "import pandas as pd\n",
    "import matplotlib.pyplot as plt\n",
    "import seaborn as sns\n",
    "\n",
    "# Models\n",
    "from sklearn.linear_model import LogisticRegression\n",
    "from sklearn.neighbors import KNeighborsClassifier\n",
    "from sklearn.ensemble import RandomForestClassifier\n",
    "from sklearn.svm import SVC\n",
    "\n",
    "# Model Evaluations \n",
    "from sklearn.model_selection import train_test_split, cross_val_score\n",
    "from sklearn.model_selection import RandomizedSearchCV, GridSearchCV\n",
    "from sklearn.metrics import confusion_matrix, classification_report\n",
    "from sklearn.metrics import precision_score, recall_score, f1_score\n",
    "from sklearn.metrics import plot_roc_curve, plot_confusion_matrix"
   ]
  },
  {
   "cell_type": "markdown",
   "id": "ba92b756",
   "metadata": {},
   "source": [
    "## Load data"
   ]
  },
  {
   "cell_type": "code",
   "execution_count": 2,
   "id": "c7cc0293",
   "metadata": {},
   "outputs": [
    {
     "data": {
      "text/html": [
       "<div>\n",
       "<style scoped>\n",
       "    .dataframe tbody tr th:only-of-type {\n",
       "        vertical-align: middle;\n",
       "    }\n",
       "\n",
       "    .dataframe tbody tr th {\n",
       "        vertical-align: top;\n",
       "    }\n",
       "\n",
       "    .dataframe thead th {\n",
       "        text-align: right;\n",
       "    }\n",
       "</style>\n",
       "<table border=\"1\" class=\"dataframe\">\n",
       "  <thead>\n",
       "    <tr style=\"text-align: right;\">\n",
       "      <th></th>\n",
       "      <th>age</th>\n",
       "      <th>sex</th>\n",
       "      <th>cp</th>\n",
       "      <th>trestbps</th>\n",
       "      <th>chol</th>\n",
       "      <th>fbs</th>\n",
       "      <th>restecg</th>\n",
       "      <th>thalach</th>\n",
       "      <th>exang</th>\n",
       "      <th>oldpeak</th>\n",
       "      <th>slope</th>\n",
       "      <th>ca</th>\n",
       "      <th>thal</th>\n",
       "      <th>target</th>\n",
       "    </tr>\n",
       "  </thead>\n",
       "  <tbody>\n",
       "    <tr>\n",
       "      <th>0</th>\n",
       "      <td>63</td>\n",
       "      <td>1</td>\n",
       "      <td>3</td>\n",
       "      <td>145</td>\n",
       "      <td>233</td>\n",
       "      <td>1</td>\n",
       "      <td>0</td>\n",
       "      <td>150</td>\n",
       "      <td>0</td>\n",
       "      <td>2.3</td>\n",
       "      <td>0</td>\n",
       "      <td>0</td>\n",
       "      <td>1</td>\n",
       "      <td>1</td>\n",
       "    </tr>\n",
       "    <tr>\n",
       "      <th>1</th>\n",
       "      <td>37</td>\n",
       "      <td>1</td>\n",
       "      <td>2</td>\n",
       "      <td>130</td>\n",
       "      <td>250</td>\n",
       "      <td>0</td>\n",
       "      <td>1</td>\n",
       "      <td>187</td>\n",
       "      <td>0</td>\n",
       "      <td>3.5</td>\n",
       "      <td>0</td>\n",
       "      <td>0</td>\n",
       "      <td>2</td>\n",
       "      <td>1</td>\n",
       "    </tr>\n",
       "    <tr>\n",
       "      <th>2</th>\n",
       "      <td>41</td>\n",
       "      <td>0</td>\n",
       "      <td>1</td>\n",
       "      <td>130</td>\n",
       "      <td>204</td>\n",
       "      <td>0</td>\n",
       "      <td>0</td>\n",
       "      <td>172</td>\n",
       "      <td>0</td>\n",
       "      <td>1.4</td>\n",
       "      <td>2</td>\n",
       "      <td>0</td>\n",
       "      <td>2</td>\n",
       "      <td>1</td>\n",
       "    </tr>\n",
       "    <tr>\n",
       "      <th>3</th>\n",
       "      <td>56</td>\n",
       "      <td>1</td>\n",
       "      <td>1</td>\n",
       "      <td>120</td>\n",
       "      <td>236</td>\n",
       "      <td>0</td>\n",
       "      <td>1</td>\n",
       "      <td>178</td>\n",
       "      <td>0</td>\n",
       "      <td>0.8</td>\n",
       "      <td>2</td>\n",
       "      <td>0</td>\n",
       "      <td>2</td>\n",
       "      <td>1</td>\n",
       "    </tr>\n",
       "    <tr>\n",
       "      <th>4</th>\n",
       "      <td>57</td>\n",
       "      <td>0</td>\n",
       "      <td>0</td>\n",
       "      <td>120</td>\n",
       "      <td>354</td>\n",
       "      <td>0</td>\n",
       "      <td>1</td>\n",
       "      <td>163</td>\n",
       "      <td>1</td>\n",
       "      <td>0.6</td>\n",
       "      <td>2</td>\n",
       "      <td>0</td>\n",
       "      <td>2</td>\n",
       "      <td>1</td>\n",
       "    </tr>\n",
       "  </tbody>\n",
       "</table>\n",
       "</div>"
      ],
      "text/plain": [
       "   age  sex  cp  trestbps  chol  fbs  restecg  thalach  exang  oldpeak  slope  \\\n",
       "0   63    1   3       145   233    1        0      150      0      2.3      0   \n",
       "1   37    1   2       130   250    0        1      187      0      3.5      0   \n",
       "2   41    0   1       130   204    0        0      172      0      1.4      2   \n",
       "3   56    1   1       120   236    0        1      178      0      0.8      2   \n",
       "4   57    0   0       120   354    0        1      163      1      0.6      2   \n",
       "\n",
       "   ca  thal  target  \n",
       "0   0     1       1  \n",
       "1   0     2       1  \n",
       "2   0     2       1  \n",
       "3   0     2       1  \n",
       "4   0     2       1  "
      ]
     },
     "execution_count": 2,
     "metadata": {},
     "output_type": "execute_result"
    }
   ],
   "source": [
    "df = pd.read_csv('heart-disease.csv')\n",
    "df.head()"
   ]
  },
  {
   "cell_type": "code",
   "execution_count": 3,
   "id": "7d6cc026",
   "metadata": {},
   "outputs": [
    {
     "data": {
      "text/plain": [
       "(303, 14)"
      ]
     },
     "execution_count": 3,
     "metadata": {},
     "output_type": "execute_result"
    }
   ],
   "source": [
    "df.shape # rows, cols"
   ]
  },
  {
   "cell_type": "markdown",
   "id": "8b3b9af5",
   "metadata": {},
   "source": [
    "## Data Exploration\n",
    "Becoming more familiar with the data \n",
    "1. What questions should we ask about the data?\n",
    "2. What data types are we dealing with and how do we treat them?\n",
    "3. Is there missing data and how do we deal with this?\n",
    "4. Where are the outliers and should we care about them?\n",
    "5. How can we add, change, or remove features to get more out of our data"
   ]
  },
  {
   "cell_type": "code",
   "execution_count": 4,
   "id": "46d4744e",
   "metadata": {},
   "outputs": [
    {
     "name": "stdout",
     "output_type": "stream",
     "text": [
      "<class 'pandas.core.frame.DataFrame'>\n",
      "RangeIndex: 303 entries, 0 to 302\n",
      "Data columns (total 14 columns):\n",
      " #   Column    Non-Null Count  Dtype  \n",
      "---  ------    --------------  -----  \n",
      " 0   age       303 non-null    int64  \n",
      " 1   sex       303 non-null    int64  \n",
      " 2   cp        303 non-null    int64  \n",
      " 3   trestbps  303 non-null    int64  \n",
      " 4   chol      303 non-null    int64  \n",
      " 5   fbs       303 non-null    int64  \n",
      " 6   restecg   303 non-null    int64  \n",
      " 7   thalach   303 non-null    int64  \n",
      " 8   exang     303 non-null    int64  \n",
      " 9   oldpeak   303 non-null    float64\n",
      " 10  slope     303 non-null    int64  \n",
      " 11  ca        303 non-null    int64  \n",
      " 12  thal      303 non-null    int64  \n",
      " 13  target    303 non-null    int64  \n",
      "dtypes: float64(1), int64(13)\n",
      "memory usage: 33.3 KB\n"
     ]
    }
   ],
   "source": [
    "df.info()"
   ]
  },
  {
   "cell_type": "code",
   "execution_count": 5,
   "id": "4fa8b6ba",
   "metadata": {},
   "outputs": [
    {
     "data": {
      "text/html": [
       "<div>\n",
       "<style scoped>\n",
       "    .dataframe tbody tr th:only-of-type {\n",
       "        vertical-align: middle;\n",
       "    }\n",
       "\n",
       "    .dataframe tbody tr th {\n",
       "        vertical-align: top;\n",
       "    }\n",
       "\n",
       "    .dataframe thead th {\n",
       "        text-align: right;\n",
       "    }\n",
       "</style>\n",
       "<table border=\"1\" class=\"dataframe\">\n",
       "  <thead>\n",
       "    <tr style=\"text-align: right;\">\n",
       "      <th></th>\n",
       "      <th>age</th>\n",
       "      <th>sex</th>\n",
       "      <th>cp</th>\n",
       "      <th>trestbps</th>\n",
       "      <th>chol</th>\n",
       "      <th>fbs</th>\n",
       "      <th>restecg</th>\n",
       "      <th>thalach</th>\n",
       "      <th>exang</th>\n",
       "      <th>oldpeak</th>\n",
       "      <th>slope</th>\n",
       "      <th>ca</th>\n",
       "      <th>thal</th>\n",
       "      <th>target</th>\n",
       "    </tr>\n",
       "  </thead>\n",
       "  <tbody>\n",
       "    <tr>\n",
       "      <th>count</th>\n",
       "      <td>303.000000</td>\n",
       "      <td>303.000000</td>\n",
       "      <td>303.000000</td>\n",
       "      <td>303.000000</td>\n",
       "      <td>303.000000</td>\n",
       "      <td>303.000000</td>\n",
       "      <td>303.000000</td>\n",
       "      <td>303.000000</td>\n",
       "      <td>303.000000</td>\n",
       "      <td>303.000000</td>\n",
       "      <td>303.000000</td>\n",
       "      <td>303.000000</td>\n",
       "      <td>303.000000</td>\n",
       "      <td>303.000000</td>\n",
       "    </tr>\n",
       "    <tr>\n",
       "      <th>mean</th>\n",
       "      <td>54.366337</td>\n",
       "      <td>0.683168</td>\n",
       "      <td>0.966997</td>\n",
       "      <td>131.623762</td>\n",
       "      <td>246.264026</td>\n",
       "      <td>0.148515</td>\n",
       "      <td>0.528053</td>\n",
       "      <td>149.646865</td>\n",
       "      <td>0.326733</td>\n",
       "      <td>1.039604</td>\n",
       "      <td>1.399340</td>\n",
       "      <td>0.729373</td>\n",
       "      <td>2.313531</td>\n",
       "      <td>0.544554</td>\n",
       "    </tr>\n",
       "    <tr>\n",
       "      <th>std</th>\n",
       "      <td>9.082101</td>\n",
       "      <td>0.466011</td>\n",
       "      <td>1.032052</td>\n",
       "      <td>17.538143</td>\n",
       "      <td>51.830751</td>\n",
       "      <td>0.356198</td>\n",
       "      <td>0.525860</td>\n",
       "      <td>22.905161</td>\n",
       "      <td>0.469794</td>\n",
       "      <td>1.161075</td>\n",
       "      <td>0.616226</td>\n",
       "      <td>1.022606</td>\n",
       "      <td>0.612277</td>\n",
       "      <td>0.498835</td>\n",
       "    </tr>\n",
       "    <tr>\n",
       "      <th>min</th>\n",
       "      <td>29.000000</td>\n",
       "      <td>0.000000</td>\n",
       "      <td>0.000000</td>\n",
       "      <td>94.000000</td>\n",
       "      <td>126.000000</td>\n",
       "      <td>0.000000</td>\n",
       "      <td>0.000000</td>\n",
       "      <td>71.000000</td>\n",
       "      <td>0.000000</td>\n",
       "      <td>0.000000</td>\n",
       "      <td>0.000000</td>\n",
       "      <td>0.000000</td>\n",
       "      <td>0.000000</td>\n",
       "      <td>0.000000</td>\n",
       "    </tr>\n",
       "    <tr>\n",
       "      <th>25%</th>\n",
       "      <td>47.500000</td>\n",
       "      <td>0.000000</td>\n",
       "      <td>0.000000</td>\n",
       "      <td>120.000000</td>\n",
       "      <td>211.000000</td>\n",
       "      <td>0.000000</td>\n",
       "      <td>0.000000</td>\n",
       "      <td>133.500000</td>\n",
       "      <td>0.000000</td>\n",
       "      <td>0.000000</td>\n",
       "      <td>1.000000</td>\n",
       "      <td>0.000000</td>\n",
       "      <td>2.000000</td>\n",
       "      <td>0.000000</td>\n",
       "    </tr>\n",
       "    <tr>\n",
       "      <th>50%</th>\n",
       "      <td>55.000000</td>\n",
       "      <td>1.000000</td>\n",
       "      <td>1.000000</td>\n",
       "      <td>130.000000</td>\n",
       "      <td>240.000000</td>\n",
       "      <td>0.000000</td>\n",
       "      <td>1.000000</td>\n",
       "      <td>153.000000</td>\n",
       "      <td>0.000000</td>\n",
       "      <td>0.800000</td>\n",
       "      <td>1.000000</td>\n",
       "      <td>0.000000</td>\n",
       "      <td>2.000000</td>\n",
       "      <td>1.000000</td>\n",
       "    </tr>\n",
       "    <tr>\n",
       "      <th>75%</th>\n",
       "      <td>61.000000</td>\n",
       "      <td>1.000000</td>\n",
       "      <td>2.000000</td>\n",
       "      <td>140.000000</td>\n",
       "      <td>274.500000</td>\n",
       "      <td>0.000000</td>\n",
       "      <td>1.000000</td>\n",
       "      <td>166.000000</td>\n",
       "      <td>1.000000</td>\n",
       "      <td>1.600000</td>\n",
       "      <td>2.000000</td>\n",
       "      <td>1.000000</td>\n",
       "      <td>3.000000</td>\n",
       "      <td>1.000000</td>\n",
       "    </tr>\n",
       "    <tr>\n",
       "      <th>max</th>\n",
       "      <td>77.000000</td>\n",
       "      <td>1.000000</td>\n",
       "      <td>3.000000</td>\n",
       "      <td>200.000000</td>\n",
       "      <td>564.000000</td>\n",
       "      <td>1.000000</td>\n",
       "      <td>2.000000</td>\n",
       "      <td>202.000000</td>\n",
       "      <td>1.000000</td>\n",
       "      <td>6.200000</td>\n",
       "      <td>2.000000</td>\n",
       "      <td>4.000000</td>\n",
       "      <td>3.000000</td>\n",
       "      <td>1.000000</td>\n",
       "    </tr>\n",
       "  </tbody>\n",
       "</table>\n",
       "</div>"
      ],
      "text/plain": [
       "              age         sex          cp    trestbps        chol         fbs  \\\n",
       "count  303.000000  303.000000  303.000000  303.000000  303.000000  303.000000   \n",
       "mean    54.366337    0.683168    0.966997  131.623762  246.264026    0.148515   \n",
       "std      9.082101    0.466011    1.032052   17.538143   51.830751    0.356198   \n",
       "min     29.000000    0.000000    0.000000   94.000000  126.000000    0.000000   \n",
       "25%     47.500000    0.000000    0.000000  120.000000  211.000000    0.000000   \n",
       "50%     55.000000    1.000000    1.000000  130.000000  240.000000    0.000000   \n",
       "75%     61.000000    1.000000    2.000000  140.000000  274.500000    0.000000   \n",
       "max     77.000000    1.000000    3.000000  200.000000  564.000000    1.000000   \n",
       "\n",
       "          restecg     thalach       exang     oldpeak       slope          ca  \\\n",
       "count  303.000000  303.000000  303.000000  303.000000  303.000000  303.000000   \n",
       "mean     0.528053  149.646865    0.326733    1.039604    1.399340    0.729373   \n",
       "std      0.525860   22.905161    0.469794    1.161075    0.616226    1.022606   \n",
       "min      0.000000   71.000000    0.000000    0.000000    0.000000    0.000000   \n",
       "25%      0.000000  133.500000    0.000000    0.000000    1.000000    0.000000   \n",
       "50%      1.000000  153.000000    0.000000    0.800000    1.000000    0.000000   \n",
       "75%      1.000000  166.000000    1.000000    1.600000    2.000000    1.000000   \n",
       "max      2.000000  202.000000    1.000000    6.200000    2.000000    4.000000   \n",
       "\n",
       "             thal      target  \n",
       "count  303.000000  303.000000  \n",
       "mean     2.313531    0.544554  \n",
       "std      0.612277    0.498835  \n",
       "min      0.000000    0.000000  \n",
       "25%      2.000000    0.000000  \n",
       "50%      2.000000    1.000000  \n",
       "75%      3.000000    1.000000  \n",
       "max      3.000000    1.000000  "
      ]
     },
     "execution_count": 5,
     "metadata": {},
     "output_type": "execute_result"
    }
   ],
   "source": [
    "df.describe()"
   ]
  },
  {
   "cell_type": "code",
   "execution_count": 6,
   "id": "32b9974c",
   "metadata": {},
   "outputs": [
    {
     "data": {
      "text/plain": [
       "age         0\n",
       "sex         0\n",
       "cp          0\n",
       "trestbps    0\n",
       "chol        0\n",
       "fbs         0\n",
       "restecg     0\n",
       "thalach     0\n",
       "exang       0\n",
       "oldpeak     0\n",
       "slope       0\n",
       "ca          0\n",
       "thal        0\n",
       "target      0\n",
       "dtype: int64"
      ]
     },
     "execution_count": 6,
     "metadata": {},
     "output_type": "execute_result"
    }
   ],
   "source": [
    "# Are there missing data?\n",
    "df.isna().sum()"
   ]
  },
  {
   "cell_type": "code",
   "execution_count": 7,
   "id": "71c86a0c",
   "metadata": {},
   "outputs": [
    {
     "data": {
      "image/png": "[encoded data removed]",
      "text/plain": [
       "<Figure size 432x288 with 1 Axes>"
      ]
     },
     "metadata": {
      "needs_background": "light"
     },
     "output_type": "display_data"
    }
   ],
   "source": [
    "sns.countplot(data=df, x='target', palette=['salmon', 'lightblue']);"
   ]
  },
  {
   "cell_type": "code",
   "execution_count": 8,
   "id": "cf7776ef",
   "metadata": {},
   "outputs": [
    {
     "data": {
      "image/png": "[encoded data removed]",
      "text/plain": [
       "<Figure size 432x288 with 1 Axes>"
      ]
     },
     "metadata": {
      "needs_background": "light"
     },
     "output_type": "display_data"
    }
   ],
   "source": [
    "sns.histplot(data=df, \n",
    "             multiple=\"stack\",\n",
    "             x=\"age\",\n",
    "             palette=\"pastel\", \n",
    "             hue=\"target\");"
   ]
  },
  {
   "cell_type": "code",
   "execution_count": 9,
   "id": "0ce9e002",
   "metadata": {},
   "outputs": [
    {
     "data": {
      "image/png": "[encoded data removed]",
      "text/plain": [
       "<Figure size 432x288 with 1 Axes>"
      ]
     },
     "metadata": {
      "needs_background": "light"
     },
     "output_type": "display_data"
    }
   ],
   "source": [
    "# compare target against patient sex\n",
    "pd.crosstab(df.target, df.sex).plot(kind='bar',\n",
    "                                   color=['pink','lightblue'])\n",
    "plt.title(\"Heart disease frequency per sex\")\n",
    "plt.legend(['Female','Male'])\n",
    "plt.xlabel(\"0 = No Disease; 1 = Disease\");\n",
    "# from our dataset, females much more likely to have heart disease"
   ]
  },
  {
   "cell_type": "markdown",
   "id": "fddba6fb",
   "metadata": {},
   "source": [
    "#### Age vs Max heart rate"
   ]
  },
  {
   "cell_type": "code",
   "execution_count": 10,
   "id": "f9a3a50a",
   "metadata": {},
   "outputs": [
    {
     "data": {
      "image/png": "[encoded data removed]",
      "text/plain": [
       "<Figure size 720x432 with 1 Axes>"
      ]
     },
     "metadata": {
      "needs_background": "light"
     },
     "output_type": "display_data"
    }
   ],
   "source": [
    "plt.figure(figsize=(10,6))\n",
    "# positive examples\n",
    "plt.scatter(df.age[df.target==1], df.thalach[df.target==1], c='salmon')\n",
    "# negative examples\n",
    "plt.scatter(df.age[df.target==0], df.thalach[df.target==0], c='lightblue')\n",
    "\n",
    "# info\n",
    "plt.title(\"Heart Disease as a Function of Age and Max Heart Rate\")\n",
    "plt.ylabel(\"Max Heart Rate\")\n",
    "plt.xlabel(\"Age\")\n",
    "plt.legend([\"Disease\", \"No Disease\"]);"
   ]
  },
  {
   "cell_type": "markdown",
   "id": "7255dd2b",
   "metadata": {},
   "source": [
    "#### Heart disease frequency per chest pain type"
   ]
  },
  {
   "cell_type": "code",
   "execution_count": 11,
   "id": "54520b17",
   "metadata": {},
   "outputs": [
    {
     "data": {
      "text/html": [
       "<div>\n",
       "<style scoped>\n",
       "    .dataframe tbody tr th:only-of-type {\n",
       "        vertical-align: middle;\n",
       "    }\n",
       "\n",
       "    .dataframe tbody tr th {\n",
       "        vertical-align: top;\n",
       "    }\n",
       "\n",
       "    .dataframe thead th {\n",
       "        text-align: right;\n",
       "    }\n",
       "</style>\n",
       "<table border=\"1\" class=\"dataframe\">\n",
       "  <thead>\n",
       "    <tr style=\"text-align: right;\">\n",
       "      <th>target</th>\n",
       "      <th>0</th>\n",
       "      <th>1</th>\n",
       "    </tr>\n",
       "    <tr>\n",
       "      <th>cp</th>\n",
       "      <th></th>\n",
       "      <th></th>\n",
       "    </tr>\n",
       "  </thead>\n",
       "  <tbody>\n",
       "    <tr>\n",
       "      <th>0</th>\n",
       "      <td>104</td>\n",
       "      <td>39</td>\n",
       "    </tr>\n",
       "    <tr>\n",
       "      <th>1</th>\n",
       "      <td>9</td>\n",
       "      <td>41</td>\n",
       "    </tr>\n",
       "    <tr>\n",
       "      <th>2</th>\n",
       "      <td>18</td>\n",
       "      <td>69</td>\n",
       "    </tr>\n",
       "    <tr>\n",
       "      <th>3</th>\n",
       "      <td>7</td>\n",
       "      <td>16</td>\n",
       "    </tr>\n",
       "  </tbody>\n",
       "</table>\n",
       "</div>"
      ],
      "text/plain": [
       "target    0   1\n",
       "cp             \n",
       "0       104  39\n",
       "1         9  41\n",
       "2        18  69\n",
       "3         7  16"
      ]
     },
     "execution_count": 11,
     "metadata": {},
     "output_type": "execute_result"
    }
   ],
   "source": [
    "pd.crosstab(df.cp, df.target)"
   ]
  },
  {
   "cell_type": "code",
   "execution_count": 12,
   "id": "94b252a5",
   "metadata": {},
   "outputs": [
    {
     "data": {
      "image/png": "[encoded data removed]",
      "text/plain": [
       "<Figure size 720x432 with 1 Axes>"
      ]
     },
     "metadata": {
      "needs_background": "light"
     },
     "output_type": "display_data"
    }
   ],
   "source": [
    "pd.crosstab(df.cp, df.target).plot(kind='bar',\n",
    "                                  figsize=(10,6),\n",
    "                                  color=['salmon','lightblue'])\n",
    "plt.title(\"Heart Disease Frequency vs Chest Pain Type\")\n",
    "plt.legend([\"Disease\",\"No Disease\"])\n",
    "plt.xlabel(\"\\n0: Typical angina, 1: Atypical angina, 2: Non-anginal pain, 3: Asymptomatic\");\n",
    "\n",
    "# angina = severe pain in the chest"
   ]
  },
  {
   "cell_type": "code",
   "execution_count": 13,
   "id": "3bf0a4f5",
   "metadata": {},
   "outputs": [
    {
     "data": {
      "image/png": "[encoded data removed]",
      "text/plain": [
       "<Figure size 432x288 with 1 Axes>"
      ]
     },
     "metadata": {
      "needs_background": "light"
     },
     "output_type": "display_data"
    }
   ],
   "source": [
    "pd.crosstab(df.exang, df.target).plot(kind='bar', color=['lightblue','salmon'])\n",
    "plt.title(\"Heart Disease Frequency vs Exercise Induced Chest Pain\")\n",
    "plt.legend([\"No Disease\", \"Disease\"])\n",
    "plt.xlabel(\"\\n 0 = No Exercise Angina,  1 = Exercise Angina\");\n",
    "\n",
    "# Seems here that exercise anginas are less likely to result in heart disease"
   ]
  },
  {
   "cell_type": "code",
   "execution_count": 82,
   "id": "ad0c3e9f",
   "metadata": {},
   "outputs": [
    {
     "data": {
      "image/png": "[encoded data removed]",
      "text/plain": [
       "<Figure size 936x648 with 2 Axes>"
      ]
     },
     "metadata": {
      "needs_background": "light"
     },
     "output_type": "display_data"
    }
   ],
   "source": [
    "plt.figure(figsize=(13,9))\n",
    "corr = df.corr()\n",
    "matrix = np.triu(corr)\n",
    "sns.heatmap(corr, annot=True, fmt='.2f', mask=matrix)\n",
    "plt.title(\"Correlation Matrix\", fontdict=dict(fontsize=18));\n",
    "\n",
    "# -0.44 correlation figure for Exercise angina vs Heart disease (target)"
   ]
  },
  {
   "cell_type": "markdown",
   "id": "93fee89d",
   "metadata": {},
   "source": [
    "## 5. Modelling"
   ]
  },
  {
   "cell_type": "markdown",
   "id": "8efcefc3",
   "metadata": {},
   "source": [
    "1. Model Comparisons\n",
    "2. Hyperparameter Tuning\n",
    "3. Confusion Matrix\n",
    "4. Cross-validation\n",
    "5. Precision, Recall, F1 Score\n",
    "6. Classification Report\n",
    "7. ROC Curve, Area Under Curve (AUC)\n",
    "8. Feature Importance"
   ]
  },
  {
   "cell_type": "code",
   "execution_count": 15,
   "id": "7c609930",
   "metadata": {},
   "outputs": [
    {
     "data": {
      "text/html": [
       "<div>\n",
       "<style scoped>\n",
       "    .dataframe tbody tr th:only-of-type {\n",
       "        vertical-align: middle;\n",
       "    }\n",
       "\n",
       "    .dataframe tbody tr th {\n",
       "        vertical-align: top;\n",
       "    }\n",
       "\n",
       "    .dataframe thead th {\n",
       "        text-align: right;\n",
       "    }\n",
       "</style>\n",
       "<table border=\"1\" class=\"dataframe\">\n",
       "  <thead>\n",
       "    <tr style=\"text-align: right;\">\n",
       "      <th></th>\n",
       "      <th>age</th>\n",
       "      <th>sex</th>\n",
       "      <th>cp</th>\n",
       "      <th>trestbps</th>\n",
       "      <th>chol</th>\n",
       "      <th>fbs</th>\n",
       "      <th>restecg</th>\n",
       "      <th>thalach</th>\n",
       "      <th>exang</th>\n",
       "      <th>oldpeak</th>\n",
       "      <th>slope</th>\n",
       "      <th>ca</th>\n",
       "      <th>thal</th>\n",
       "      <th>target</th>\n",
       "    </tr>\n",
       "  </thead>\n",
       "  <tbody>\n",
       "    <tr>\n",
       "      <th>0</th>\n",
       "      <td>63</td>\n",
       "      <td>1</td>\n",
       "      <td>3</td>\n",
       "      <td>145</td>\n",
       "      <td>233</td>\n",
       "      <td>1</td>\n",
       "      <td>0</td>\n",
       "      <td>150</td>\n",
       "      <td>0</td>\n",
       "      <td>2.3</td>\n",
       "      <td>0</td>\n",
       "      <td>0</td>\n",
       "      <td>1</td>\n",
       "      <td>1</td>\n",
       "    </tr>\n",
       "    <tr>\n",
       "      <th>1</th>\n",
       "      <td>37</td>\n",
       "      <td>1</td>\n",
       "      <td>2</td>\n",
       "      <td>130</td>\n",
       "      <td>250</td>\n",
       "      <td>0</td>\n",
       "      <td>1</td>\n",
       "      <td>187</td>\n",
       "      <td>0</td>\n",
       "      <td>3.5</td>\n",
       "      <td>0</td>\n",
       "      <td>0</td>\n",
       "      <td>2</td>\n",
       "      <td>1</td>\n",
       "    </tr>\n",
       "    <tr>\n",
       "      <th>2</th>\n",
       "      <td>41</td>\n",
       "      <td>0</td>\n",
       "      <td>1</td>\n",
       "      <td>130</td>\n",
       "      <td>204</td>\n",
       "      <td>0</td>\n",
       "      <td>0</td>\n",
       "      <td>172</td>\n",
       "      <td>0</td>\n",
       "      <td>1.4</td>\n",
       "      <td>2</td>\n",
       "      <td>0</td>\n",
       "      <td>2</td>\n",
       "      <td>1</td>\n",
       "    </tr>\n",
       "    <tr>\n",
       "      <th>3</th>\n",
       "      <td>56</td>\n",
       "      <td>1</td>\n",
       "      <td>1</td>\n",
       "      <td>120</td>\n",
       "      <td>236</td>\n",
       "      <td>0</td>\n",
       "      <td>1</td>\n",
       "      <td>178</td>\n",
       "      <td>0</td>\n",
       "      <td>0.8</td>\n",
       "      <td>2</td>\n",
       "      <td>0</td>\n",
       "      <td>2</td>\n",
       "      <td>1</td>\n",
       "    </tr>\n",
       "    <tr>\n",
       "      <th>4</th>\n",
       "      <td>57</td>\n",
       "      <td>0</td>\n",
       "      <td>0</td>\n",
       "      <td>120</td>\n",
       "      <td>354</td>\n",
       "      <td>0</td>\n",
       "      <td>1</td>\n",
       "      <td>163</td>\n",
       "      <td>1</td>\n",
       "      <td>0.6</td>\n",
       "      <td>2</td>\n",
       "      <td>0</td>\n",
       "      <td>2</td>\n",
       "      <td>1</td>\n",
       "    </tr>\n",
       "  </tbody>\n",
       "</table>\n",
       "</div>"
      ],
      "text/plain": [
       "   age  sex  cp  trestbps  chol  fbs  restecg  thalach  exang  oldpeak  slope  \\\n",
       "0   63    1   3       145   233    1        0      150      0      2.3      0   \n",
       "1   37    1   2       130   250    0        1      187      0      3.5      0   \n",
       "2   41    0   1       130   204    0        0      172      0      1.4      2   \n",
       "3   56    1   1       120   236    0        1      178      0      0.8      2   \n",
       "4   57    0   0       120   354    0        1      163      1      0.6      2   \n",
       "\n",
       "   ca  thal  target  \n",
       "0   0     1       1  \n",
       "1   0     2       1  \n",
       "2   0     2       1  \n",
       "3   0     2       1  \n",
       "4   0     2       1  "
      ]
     },
     "execution_count": 15,
     "metadata": {},
     "output_type": "execute_result"
    }
   ],
   "source": [
    "df.head()"
   ]
  },
  {
   "cell_type": "code",
   "execution_count": 16,
   "id": "e87253f0",
   "metadata": {},
   "outputs": [],
   "source": [
    "X = df.drop('target', axis=1)\n",
    "y = df['target']"
   ]
  },
  {
   "cell_type": "code",
   "execution_count": 17,
   "id": "bbc28936",
   "metadata": {},
   "outputs": [],
   "source": [
    "X_train, X_test, y_train, y_test = train_test_split(X, y, test_size=0.2, random_state=42)"
   ]
  },
  {
   "cell_type": "code",
   "execution_count": 32,
   "id": "3be6d4a1",
   "metadata": {},
   "outputs": [],
   "source": [
    "results = {}\n",
    "models = {'Logistic': LogisticRegression(),\n",
    "         'Random Forests': RandomForestClassifier(),\n",
    "         'KNN': KNeighborsClassifier(),\n",
    "         'Support Vector Machine': SVC()}"
   ]
  },
  {
   "cell_type": "code",
   "execution_count": 33,
   "id": "1db7a869",
   "metadata": {},
   "outputs": [],
   "source": [
    "import warnings\n",
    "# Hiding max_iter logistic regression warnings\n",
    "warnings.filterwarnings('ignore')"
   ]
  },
  {
   "cell_type": "code",
   "execution_count": 34,
   "id": "19e1c7ce",
   "metadata": {},
   "outputs": [],
   "source": [
    "np.random.seed(42)\n",
    "for name, clf in models.items():\n",
    "    clf.fit(X_train, y_train)\n",
    "    score = clf.score(X_test, y_test) \n",
    "    results[name] = score"
   ]
  },
  {
   "cell_type": "markdown",
   "id": "05bc1b64",
   "metadata": {},
   "source": [
    "### 5.1. Model Comparison"
   ]
  },
  {
   "cell_type": "code",
   "execution_count": 38,
   "id": "dc7fa7d3",
   "metadata": {},
   "outputs": [
    {
     "data": {
      "text/html": [
       "<div>\n",
       "<style scoped>\n",
       "    .dataframe tbody tr th:only-of-type {\n",
       "        vertical-align: middle;\n",
       "    }\n",
       "\n",
       "    .dataframe tbody tr th {\n",
       "        vertical-align: top;\n",
       "    }\n",
       "\n",
       "    .dataframe thead th {\n",
       "        text-align: right;\n",
       "    }\n",
       "</style>\n",
       "<table border=\"1\" class=\"dataframe\">\n",
       "  <thead>\n",
       "    <tr style=\"text-align: right;\">\n",
       "      <th></th>\n",
       "      <th>accuracy</th>\n",
       "    </tr>\n",
       "  </thead>\n",
       "  <tbody>\n",
       "    <tr>\n",
       "      <th>Logistic</th>\n",
       "      <td>0.885246</td>\n",
       "    </tr>\n",
       "    <tr>\n",
       "      <th>Random Forests</th>\n",
       "      <td>0.836066</td>\n",
       "    </tr>\n",
       "    <tr>\n",
       "      <th>KNN</th>\n",
       "      <td>0.688525</td>\n",
       "    </tr>\n",
       "    <tr>\n",
       "      <th>Support Vector Machine</th>\n",
       "      <td>0.704918</td>\n",
       "    </tr>\n",
       "  </tbody>\n",
       "</table>\n",
       "</div>"
      ],
      "text/plain": [
       "                        accuracy\n",
       "Logistic                0.885246\n",
       "Random Forests          0.836066\n",
       "KNN                     0.688525\n",
       "Support Vector Machine  0.704918"
      ]
     },
     "execution_count": 38,
     "metadata": {},
     "output_type": "execute_result"
    }
   ],
   "source": [
    "pd.DataFrame(results.values(), \n",
    "             results.keys(), \n",
    "             columns=['accuracy'])"
   ]
  },
  {
   "cell_type": "markdown",
   "id": "ab59e422",
   "metadata": {},
   "source": [
    "### 5.2. Tuning Hyperparameters"
   ]
  },
  {
   "cell_type": "code",
   "execution_count": 83,
   "id": "0b4b4753",
   "metadata": {},
   "outputs": [],
   "source": [
    "# Lets try KNN\n",
    "\n",
    "train_scores = []\n",
    "test_scores = []\n",
    "\n",
    "neighbors = range(1,21)\n",
    "\n",
    "# KNN instance\n",
    "knn = KNeighborsClassifier()\n",
    "\n",
    "for i in neighbors:\n",
    "    knn.set_params(n_neighbors = i)\n",
    "    knn.fit(X_train, y_train)\n",
    "    \n",
    "    train_scores.append(knn.score(X_train,y_train))\n",
    "    test_scores.append(knn.score(X_test,y_test))"
   ]
  },
  {
   "cell_type": "code",
   "execution_count": 92,
   "id": "7d22e306",
   "metadata": {},
   "outputs": [
    {
     "name": "stdout",
     "output_type": "stream",
     "text": [
      "Max score on test labels: 75.41%\n"
     ]
    },
    {
     "data": {
      "image/png": "[encoded data removed]",
      "text/plain": [
       "<Figure size 432x288 with 1 Axes>"
      ]
     },
     "metadata": {
      "needs_background": "light"
     },
     "output_type": "display_data"
    }
   ],
   "source": [
    "plt.plot(neighbors, train_scores, label='Train Score')\n",
    "plt.plot(neighbors, test_scores, label='Test Score')\n",
    "plt.xticks(np.arange(1,21,1))\n",
    "plt.xlabel('Number of neighbors')\n",
    "plt.ylabel('Model Score');\n",
    "print(f'Max score on test labels: {max(test_scores)*100:.2f}%')"
   ]
  },
  {
   "cell_type": "code",
   "execution_count": 93,
   "id": "b8f17910",
   "metadata": {},
   "outputs": [],
   "source": [
    "# Quite an improvement yet still not reaching the scores of Logistic regression\n",
    "# and Random Forests"
   ]
  },
  {
   "cell_type": "markdown",
   "id": "17005ff3",
   "metadata": {},
   "source": [
    "### Hyperparameter tuning with RandomisedSearchCV\n",
    "\n",
    "1. LogisticRegression()\n",
    "2. RandomForestClassifier()"
   ]
  },
  {
   "cell_type": "code",
   "execution_count": 106,
   "id": "fa4bbc7d",
   "metadata": {},
   "outputs": [],
   "source": [
    "# set a grid a hyperparams to test for logistic regression\n",
    "log_reg_grid = {'C': np.logspace(-4, 4, 20),\n",
    "                'solver': ['liblinear', 'lbfgs']}\n",
    "\n",
    "# set a grid for random forests\n",
    "rf_grid = {'n_estimators': np.arange(10,1000,50),\n",
    "           'max_depth': [None, 3, 5,10],\n",
    "           'min_samples_split': np.arange(2, 20, 2),\n",
    "           'min_samples_leaf': np.arange(1, 20, 2)}"
   ]
  },
  {
   "cell_type": "code",
   "execution_count": 97,
   "id": "a65cf158",
   "metadata": {},
   "outputs": [
    {
     "name": "stdout",
     "output_type": "stream",
     "text": [
      "Fitting 5 folds for each of 20 candidates, totalling 100 fits\n",
      "[CV] END ..................C=0.615848211066026, solver=lbfgs; total time=   0.0s\n",
      "[CV] END ..................C=0.615848211066026, solver=lbfgs; total time=   0.0s\n",
      "[CV] END ..................C=0.615848211066026, solver=lbfgs; total time=   0.0s\n",
      "[CV] END ..................C=0.615848211066026, solver=lbfgs; total time=   0.0s\n",
      "[CV] END ..................C=0.615848211066026, solver=lbfgs; total time=   0.0s\n",
      "[CV] END ............C=0.23357214690901212, solver=liblinear; total time=   0.0s\n",
      "[CV] END ............C=0.23357214690901212, solver=liblinear; total time=   0.0s\n",
      "[CV] END ............C=0.23357214690901212, solver=liblinear; total time=   0.0s\n",
      "[CV] END ............C=0.23357214690901212, solver=liblinear; total time=   0.0s\n",
      "[CV] END ............C=0.23357214690901212, solver=liblinear; total time=   0.0s\n",
      "[CV] END ................C=0.08858667904100823, solver=lbfgs; total time=   0.0s\n",
      "[CV] END ................C=0.08858667904100823, solver=lbfgs; total time=   0.0s\n",
      "[CV] END ................C=0.08858667904100823, solver=lbfgs; total time=   0.0s\n",
      "[CV] END ................C=0.08858667904100823, solver=lbfgs; total time=   0.0s\n",
      "[CV] END ................C=0.08858667904100823, solver=lbfgs; total time=   0.0s\n",
      "[CV] END .............C=29.763514416313132, solver=liblinear; total time=   0.0s\n",
      "[CV] END .............C=29.763514416313132, solver=liblinear; total time=   0.0s\n",
      "[CV] END .............C=29.763514416313132, solver=liblinear; total time=   0.0s\n",
      "[CV] END .............C=29.763514416313132, solver=liblinear; total time=   0.0s\n",
      "[CV] END .............C=29.763514416313132, solver=liblinear; total time=   0.0s\n",
      "[CV] END ..........C=0.0006951927961775605, solver=liblinear; total time=   0.0s\n",
      "[CV] END ..........C=0.0006951927961775605, solver=liblinear; total time=   0.0s\n",
      "[CV] END ..........C=0.0006951927961775605, solver=liblinear; total time=   0.0s\n",
      "[CV] END ..........C=0.0006951927961775605, solver=liblinear; total time=   0.0s\n",
      "[CV] END ..........C=0.0006951927961775605, solver=liblinear; total time=   0.0s\n",
      "[CV] END ............C=0.03359818286283781, solver=liblinear; total time=   0.0s\n",
      "[CV] END ............C=0.03359818286283781, solver=liblinear; total time=   0.0s\n",
      "[CV] END ............C=0.03359818286283781, solver=liblinear; total time=   0.0s\n",
      "[CV] END ............C=0.03359818286283781, solver=liblinear; total time=   0.0s\n",
      "[CV] END ............C=0.03359818286283781, solver=liblinear; total time=   0.0s\n",
      "[CV] END ..................C=3792.690190732246, solver=lbfgs; total time=   0.0s\n",
      "[CV] END ..................C=3792.690190732246, solver=lbfgs; total time=   0.0s\n",
      "[CV] END ..................C=3792.690190732246, solver=lbfgs; total time=   0.0s\n",
      "[CV] END ..................C=3792.690190732246, solver=lbfgs; total time=   0.0s\n",
      "[CV] END ..................C=3792.690190732246, solver=lbfgs; total time=   0.0s\n",
      "[CV] END .................C=29.763514416313132, solver=lbfgs; total time=   0.0s\n",
      "[CV] END .................C=29.763514416313132, solver=lbfgs; total time=   0.0s\n",
      "[CV] END .................C=29.763514416313132, solver=lbfgs; total time=   0.0s\n",
      "[CV] END .................C=29.763514416313132, solver=lbfgs; total time=   0.0s\n",
      "[CV] END .................C=29.763514416313132, solver=lbfgs; total time=   0.0s\n",
      "[CV] END ............................C=10000.0, solver=lbfgs; total time=   0.0s\n",
      "[CV] END ............................C=10000.0, solver=lbfgs; total time=   0.0s\n",
      "[CV] END ............................C=10000.0, solver=lbfgs; total time=   0.0s\n",
      "[CV] END ............................C=10000.0, solver=lbfgs; total time=   0.0s\n",
      "[CV] END ............................C=10000.0, solver=lbfgs; total time=   0.0s\n",
      "[CV] END ..........C=0.0018329807108324356, solver=liblinear; total time=   0.0s\n",
      "[CV] END ..........C=0.0018329807108324356, solver=liblinear; total time=   0.0s\n",
      "[CV] END ..........C=0.0018329807108324356, solver=liblinear; total time=   0.0s\n",
      "[CV] END ..........C=0.0018329807108324356, solver=liblinear; total time=   0.0s\n",
      "[CV] END ..........C=0.0018329807108324356, solver=liblinear; total time=   0.0s\n",
      "[CV] END .................C=11.288378916846883, solver=lbfgs; total time=   0.0s\n",
      "[CV] END .................C=11.288378916846883, solver=lbfgs; total time=   0.0s\n",
      "[CV] END .................C=11.288378916846883, solver=lbfgs; total time=   0.0s\n",
      "[CV] END .................C=11.288378916846883, solver=lbfgs; total time=   0.0s\n",
      "[CV] END .................C=11.288378916846883, solver=lbfgs; total time=   0.0s\n",
      "[CV] END ...............C=0.004832930238571752, solver=lbfgs; total time=   0.0s\n",
      "[CV] END ...............C=0.004832930238571752, solver=lbfgs; total time=   0.0s\n",
      "[CV] END ...............C=0.004832930238571752, solver=lbfgs; total time=   0.0s\n",
      "[CV] END ...............C=0.004832930238571752, solver=lbfgs; total time=   0.0s\n",
      "[CV] END ...............C=0.004832930238571752, solver=lbfgs; total time=   0.0s\n",
      "[CV] END ................C=0.03359818286283781, solver=lbfgs; total time=   0.0s\n",
      "[CV] END ................C=0.03359818286283781, solver=lbfgs; total time=   0.0s\n",
      "[CV] END ................C=0.03359818286283781, solver=lbfgs; total time=   0.0s\n",
      "[CV] END ................C=0.03359818286283781, solver=lbfgs; total time=   0.0s\n",
      "[CV] END ................C=0.03359818286283781, solver=lbfgs; total time=   0.0s\n",
      "[CV] END ...................C=206.913808111479, solver=lbfgs; total time=   0.0s\n",
      "[CV] END ...................C=206.913808111479, solver=lbfgs; total time=   0.0s\n",
      "[CV] END ...................C=206.913808111479, solver=lbfgs; total time=   0.0s\n",
      "[CV] END ...................C=206.913808111479, solver=lbfgs; total time=   0.0s\n",
      "[CV] END ...................C=206.913808111479, solver=lbfgs; total time=   0.0s\n",
      "[CV] END ...............C=1438.44988828766, solver=liblinear; total time=   0.0s\n",
      "[CV] END ...............C=1438.44988828766, solver=liblinear; total time=   0.0s\n",
      "[CV] END ...............C=1438.44988828766, solver=liblinear; total time=   0.0s\n",
      "[CV] END ...............C=1438.44988828766, solver=liblinear; total time=   0.0s\n",
      "[CV] END ...............C=1438.44988828766, solver=liblinear; total time=   0.0s\n",
      "[CV] END ...........C=0.004832930238571752, solver=liblinear; total time=   0.0s\n",
      "[CV] END ...........C=0.004832930238571752, solver=liblinear; total time=   0.0s\n",
      "[CV] END ...........C=0.004832930238571752, solver=liblinear; total time=   0.0s\n",
      "[CV] END ...........C=0.004832930238571752, solver=liblinear; total time=   0.0s\n",
      "[CV] END ...........C=0.004832930238571752, solver=liblinear; total time=   0.0s\n",
      "[CV] END ................C=0.23357214690901212, solver=lbfgs; total time=   0.0s\n",
      "[CV] END ................C=0.23357214690901212, solver=lbfgs; total time=   0.0s\n",
      "[CV] END ................C=0.23357214690901212, solver=lbfgs; total time=   0.0s\n",
      "[CV] END ................C=0.23357214690901212, solver=lbfgs; total time=   0.0s\n",
      "[CV] END ................C=0.23357214690901212, solver=lbfgs; total time=   0.0s\n",
      "[CV] END .............C=11.288378916846883, solver=liblinear; total time=   0.0s\n",
      "[CV] END .............C=11.288378916846883, solver=liblinear; total time=   0.0s\n",
      "[CV] END .............C=11.288378916846883, solver=liblinear; total time=   0.0s\n",
      "[CV] END .............C=11.288378916846883, solver=liblinear; total time=   0.0s\n",
      "[CV] END .............C=11.288378916846883, solver=liblinear; total time=   0.0s\n",
      "[CV] END .........................C=0.0001, solver=liblinear; total time=   0.0s\n",
      "[CV] END .........................C=0.0001, solver=liblinear; total time=   0.0s\n",
      "[CV] END .........................C=0.0001, solver=liblinear; total time=   0.0s\n",
      "[CV] END .........................C=0.0001, solver=liblinear; total time=   0.0s\n",
      "[CV] END .........................C=0.0001, solver=liblinear; total time=   0.0s\n",
      "[CV] END ..................C=545.5594781168514, solver=lbfgs; total time=   0.0s\n",
      "[CV] END ..................C=545.5594781168514, solver=lbfgs; total time=   0.0s\n",
      "[CV] END ..................C=545.5594781168514, solver=lbfgs; total time=   0.0s\n",
      "[CV] END ..................C=545.5594781168514, solver=lbfgs; total time=   0.0s\n",
      "[CV] END ..................C=545.5594781168514, solver=lbfgs; total time=   0.0s\n"
     ]
    },
    {
     "data": {
      "text/plain": [
       "RandomizedSearchCV(cv=5, estimator=LogisticRegression(), n_iter=20,\n",
       "                   param_distributions={'C': array([1.00000000e-04, 2.63665090e-04, 6.95192796e-04, 1.83298071e-03,\n",
       "       4.83293024e-03, 1.27427499e-02, 3.35981829e-02, 8.85866790e-02,\n",
       "       2.33572147e-01, 6.15848211e-01, 1.62377674e+00, 4.28133240e+00,\n",
       "       1.12883789e+01, 2.97635144e+01, 7.84759970e+01, 2.06913808e+02,\n",
       "       5.45559478e+02, 1.43844989e+03, 3.79269019e+03, 1.00000000e+04]),\n",
       "                                        'solver': ['liblinear', 'lbfgs']},\n",
       "                   verbose=2)"
      ]
     },
     "execution_count": 97,
     "metadata": {},
     "output_type": "execute_result"
    }
   ],
   "source": [
    "np.random.seed(42)\n",
    "# Setup search for LogReg\n",
    "rs_log_reg = RandomizedSearchCV(estimator=LogisticRegression(),\n",
    "                               param_distributions=log_reg_grid,\n",
    "                               cv=5,\n",
    "                               n_iter=20,\n",
    "                               verbose=2)\n",
    "# fit our tuned model\n",
    "rs_log_reg.fit(X_train, y_train)"
   ]
  },
  {
   "cell_type": "code",
   "execution_count": 98,
   "id": "f7fbc40c",
   "metadata": {},
   "outputs": [
    {
     "data": {
      "text/plain": [
       "{'solver': 'liblinear', 'C': 0.23357214690901212}"
      ]
     },
     "execution_count": 98,
     "metadata": {},
     "output_type": "execute_result"
    }
   ],
   "source": [
    "# get best parameters\n",
    "rs_log_reg.best_params_"
   ]
  },
  {
   "cell_type": "code",
   "execution_count": 101,
   "id": "c2ff787c",
   "metadata": {},
   "outputs": [
    {
     "data": {
      "text/plain": [
       "0.8852459016393442"
      ]
     },
     "execution_count": 101,
     "metadata": {},
     "output_type": "execute_result"
    }
   ],
   "source": [
    "rs_log_reg.score(X_test, y_test)\n",
    "# No improvement as base model also scored 0.885246"
   ]
  },
  {
   "cell_type": "markdown",
   "id": "d6856eb3",
   "metadata": {},
   "source": [
    "#### Setup Search for RandomForests"
   ]
  },
  {
   "cell_type": "code",
   "execution_count": 107,
   "id": "d1978651",
   "metadata": {
    "scrolled": true
   },
   "outputs": [
    {
     "name": "stdout",
     "output_type": "stream",
     "text": [
      "Fitting 5 folds for each of 20 candidates, totalling 100 fits\n",
      "[CV] END max_depth=None, min_samples_leaf=9, min_samples_split=16, n_estimators=10; total time=   0.0s\n",
      "[CV] END max_depth=None, min_samples_leaf=9, min_samples_split=16, n_estimators=10; total time=   0.0s\n",
      "[CV] END max_depth=None, min_samples_leaf=9, min_samples_split=16, n_estimators=10; total time=   0.0s\n",
      "[CV] END max_depth=None, min_samples_leaf=9, min_samples_split=16, n_estimators=10; total time=   0.0s\n",
      "[CV] END max_depth=None, min_samples_leaf=9, min_samples_split=16, n_estimators=10; total time=   0.0s\n",
      "[CV] END max_depth=5, min_samples_leaf=19, min_samples_split=18, n_estimators=510; total time=   0.8s\n",
      "[CV] END max_depth=5, min_samples_leaf=19, min_samples_split=18, n_estimators=510; total time=   0.8s\n",
      "[CV] END max_depth=5, min_samples_leaf=19, min_samples_split=18, n_estimators=510; total time=   0.8s\n",
      "[CV] END max_depth=5, min_samples_leaf=19, min_samples_split=18, n_estimators=510; total time=   0.8s\n",
      "[CV] END max_depth=5, min_samples_leaf=19, min_samples_split=18, n_estimators=510; total time=   0.8s\n",
      "[CV] END max_depth=5, min_samples_leaf=19, min_samples_split=2, n_estimators=310; total time=   0.5s\n",
      "[CV] END max_depth=5, min_samples_leaf=19, min_samples_split=2, n_estimators=310; total time=   0.5s\n",
      "[CV] END max_depth=5, min_samples_leaf=19, min_samples_split=2, n_estimators=310; total time=   0.6s\n",
      "[CV] END max_depth=5, min_samples_leaf=19, min_samples_split=2, n_estimators=310; total time=   0.6s\n",
      "[CV] END max_depth=5, min_samples_leaf=19, min_samples_split=2, n_estimators=310; total time=   0.4s\n",
      "[CV] END max_depth=5, min_samples_leaf=17, min_samples_split=16, n_estimators=560; total time=   0.9s\n",
      "[CV] END max_depth=5, min_samples_leaf=17, min_samples_split=16, n_estimators=560; total time=   0.9s\n",
      "[CV] END max_depth=5, min_samples_leaf=17, min_samples_split=16, n_estimators=560; total time=   1.1s\n",
      "[CV] END max_depth=5, min_samples_leaf=17, min_samples_split=16, n_estimators=560; total time=   0.9s\n",
      "[CV] END max_depth=5, min_samples_leaf=17, min_samples_split=16, n_estimators=560; total time=   0.9s\n",
      "[CV] END max_depth=5, min_samples_leaf=1, min_samples_split=18, n_estimators=610; total time=   1.4s\n",
      "[CV] END max_depth=5, min_samples_leaf=1, min_samples_split=18, n_estimators=610; total time=   1.2s\n",
      "[CV] END max_depth=5, min_samples_leaf=1, min_samples_split=18, n_estimators=610; total time=   1.1s\n",
      "[CV] END max_depth=5, min_samples_leaf=1, min_samples_split=18, n_estimators=610; total time=   1.1s\n",
      "[CV] END max_depth=5, min_samples_leaf=1, min_samples_split=18, n_estimators=610; total time=   1.2s\n",
      "[CV] END max_depth=3, min_samples_leaf=15, min_samples_split=4, n_estimators=610; total time=   1.0s\n",
      "[CV] END max_depth=3, min_samples_leaf=15, min_samples_split=4, n_estimators=610; total time=   1.0s\n",
      "[CV] END max_depth=3, min_samples_leaf=15, min_samples_split=4, n_estimators=610; total time=   1.0s\n",
      "[CV] END max_depth=3, min_samples_leaf=15, min_samples_split=4, n_estimators=610; total time=   1.0s\n",
      "[CV] END max_depth=3, min_samples_leaf=15, min_samples_split=4, n_estimators=610; total time=   1.1s\n",
      "[CV] END max_depth=10, min_samples_leaf=3, min_samples_split=16, n_estimators=710; total time=   1.4s\n",
      "[CV] END max_depth=10, min_samples_leaf=3, min_samples_split=16, n_estimators=710; total time=   1.5s\n",
      "[CV] END max_depth=10, min_samples_leaf=3, min_samples_split=16, n_estimators=710; total time=   1.3s\n",
      "[CV] END max_depth=10, min_samples_leaf=3, min_samples_split=16, n_estimators=710; total time=   1.5s\n",
      "[CV] END max_depth=10, min_samples_leaf=3, min_samples_split=16, n_estimators=710; total time=   1.7s\n",
      "[CV] END max_depth=10, min_samples_leaf=9, min_samples_split=16, n_estimators=260; total time=   0.5s\n",
      "[CV] END max_depth=10, min_samples_leaf=9, min_samples_split=16, n_estimators=260; total time=   0.6s\n",
      "[CV] END max_depth=10, min_samples_leaf=9, min_samples_split=16, n_estimators=260; total time=   0.6s\n",
      "[CV] END max_depth=10, min_samples_leaf=9, min_samples_split=16, n_estimators=260; total time=   0.6s\n",
      "[CV] END max_depth=10, min_samples_leaf=9, min_samples_split=16, n_estimators=260; total time=   0.5s\n",
      "[CV] END max_depth=None, min_samples_leaf=5, min_samples_split=12, n_estimators=310; total time=   0.8s\n",
      "[CV] END max_depth=None, min_samples_leaf=5, min_samples_split=12, n_estimators=310; total time=   0.5s\n",
      "[CV] END max_depth=None, min_samples_leaf=5, min_samples_split=12, n_estimators=310; total time=   0.5s\n",
      "[CV] END max_depth=None, min_samples_leaf=5, min_samples_split=12, n_estimators=310; total time=   0.6s\n",
      "[CV] END max_depth=None, min_samples_leaf=5, min_samples_split=12, n_estimators=310; total time=   0.6s\n",
      "[CV] END max_depth=5, min_samples_leaf=19, min_samples_split=12, n_estimators=710; total time=   1.4s\n",
      "[CV] END max_depth=5, min_samples_leaf=19, min_samples_split=12, n_estimators=710; total time=   1.6s\n",
      "[CV] END max_depth=5, min_samples_leaf=19, min_samples_split=12, n_estimators=710; total time=   1.3s\n",
      "[CV] END max_depth=5, min_samples_leaf=19, min_samples_split=12, n_estimators=710; total time=   1.2s\n",
      "[CV] END max_depth=5, min_samples_leaf=19, min_samples_split=12, n_estimators=710; total time=   1.4s\n",
      "[CV] END max_depth=5, min_samples_leaf=9, min_samples_split=12, n_estimators=310; total time=   0.5s\n",
      "[CV] END max_depth=5, min_samples_leaf=9, min_samples_split=12, n_estimators=310; total time=   0.5s\n",
      "[CV] END max_depth=5, min_samples_leaf=9, min_samples_split=12, n_estimators=310; total time=   0.6s\n",
      "[CV] END max_depth=5, min_samples_leaf=9, min_samples_split=12, n_estimators=310; total time=   0.5s\n",
      "[CV] END max_depth=5, min_samples_leaf=9, min_samples_split=12, n_estimators=310; total time=   0.7s\n",
      "[CV] END max_depth=10, min_samples_leaf=1, min_samples_split=18, n_estimators=910; total time=   1.5s\n",
      "[CV] END max_depth=10, min_samples_leaf=1, min_samples_split=18, n_estimators=910; total time=   1.5s\n",
      "[CV] END max_depth=10, min_samples_leaf=1, min_samples_split=18, n_estimators=910; total time=   1.5s\n",
      "[CV] END max_depth=10, min_samples_leaf=1, min_samples_split=18, n_estimators=910; total time=   1.9s\n",
      "[CV] END max_depth=10, min_samples_leaf=1, min_samples_split=18, n_estimators=910; total time=   1.8s\n",
      "[CV] END max_depth=10, min_samples_leaf=9, min_samples_split=12, n_estimators=560; total time=   1.1s\n",
      "[CV] END max_depth=10, min_samples_leaf=9, min_samples_split=12, n_estimators=560; total time=   1.0s\n",
      "[CV] END max_depth=10, min_samples_leaf=9, min_samples_split=12, n_estimators=560; total time=   0.9s\n",
      "[CV] END max_depth=10, min_samples_leaf=9, min_samples_split=12, n_estimators=560; total time=   1.0s\n",
      "[CV] END max_depth=10, min_samples_leaf=9, min_samples_split=12, n_estimators=560; total time=   1.0s\n",
      "[CV] END max_depth=3, min_samples_leaf=19, min_samples_split=4, n_estimators=210; total time=   0.3s\n",
      "[CV] END max_depth=3, min_samples_leaf=19, min_samples_split=4, n_estimators=210; total time=   0.2s\n",
      "[CV] END max_depth=3, min_samples_leaf=19, min_samples_split=4, n_estimators=210; total time=   0.2s\n",
      "[CV] END max_depth=3, min_samples_leaf=19, min_samples_split=4, n_estimators=210; total time=   0.3s\n",
      "[CV] END max_depth=3, min_samples_leaf=19, min_samples_split=4, n_estimators=210; total time=   0.2s\n",
      "[CV] END max_depth=3, min_samples_leaf=15, min_samples_split=12, n_estimators=560; total time=   0.6s\n",
      "[CV] END max_depth=3, min_samples_leaf=15, min_samples_split=12, n_estimators=560; total time=   0.5s\n",
      "[CV] END max_depth=3, min_samples_leaf=15, min_samples_split=12, n_estimators=560; total time=   0.5s\n",
      "[CV] END max_depth=3, min_samples_leaf=15, min_samples_split=12, n_estimators=560; total time=   0.5s\n",
      "[CV] END max_depth=3, min_samples_leaf=15, min_samples_split=12, n_estimators=560; total time=   0.5s\n",
      "[CV] END max_depth=3, min_samples_leaf=13, min_samples_split=4, n_estimators=960; total time=   0.9s\n",
      "[CV] END max_depth=3, min_samples_leaf=13, min_samples_split=4, n_estimators=960; total time=   0.9s\n",
      "[CV] END max_depth=3, min_samples_leaf=13, min_samples_split=4, n_estimators=960; total time=   0.9s\n",
      "[CV] END max_depth=3, min_samples_leaf=13, min_samples_split=4, n_estimators=960; total time=   0.9s\n",
      "[CV] END max_depth=3, min_samples_leaf=13, min_samples_split=4, n_estimators=960; total time=   0.9s\n"
     ]
    },
    {
     "name": "stdout",
     "output_type": "stream",
     "text": [
      "[CV] END max_depth=None, min_samples_leaf=1, min_samples_split=14, n_estimators=510; total time=   0.4s\n",
      "[CV] END max_depth=None, min_samples_leaf=1, min_samples_split=14, n_estimators=510; total time=   0.4s\n",
      "[CV] END max_depth=None, min_samples_leaf=1, min_samples_split=14, n_estimators=510; total time=   0.4s\n",
      "[CV] END max_depth=None, min_samples_leaf=1, min_samples_split=14, n_estimators=510; total time=   0.4s\n",
      "[CV] END max_depth=None, min_samples_leaf=1, min_samples_split=14, n_estimators=510; total time=   0.5s\n",
      "[CV] END max_depth=None, min_samples_leaf=19, min_samples_split=8, n_estimators=260; total time=   0.2s\n",
      "[CV] END max_depth=None, min_samples_leaf=19, min_samples_split=8, n_estimators=260; total time=   0.2s\n",
      "[CV] END max_depth=None, min_samples_leaf=19, min_samples_split=8, n_estimators=260; total time=   0.2s\n",
      "[CV] END max_depth=None, min_samples_leaf=19, min_samples_split=8, n_estimators=260; total time=   0.2s\n",
      "[CV] END max_depth=None, min_samples_leaf=19, min_samples_split=8, n_estimators=260; total time=   0.2s\n",
      "[CV] END max_depth=None, min_samples_leaf=9, min_samples_split=6, n_estimators=460; total time=   0.4s\n",
      "[CV] END max_depth=None, min_samples_leaf=9, min_samples_split=6, n_estimators=460; total time=   0.4s\n",
      "[CV] END max_depth=None, min_samples_leaf=9, min_samples_split=6, n_estimators=460; total time=   0.4s\n",
      "[CV] END max_depth=None, min_samples_leaf=9, min_samples_split=6, n_estimators=460; total time=   0.4s\n",
      "[CV] END max_depth=None, min_samples_leaf=9, min_samples_split=6, n_estimators=460; total time=   0.4s\n",
      "[CV] END max_depth=3, min_samples_leaf=7, min_samples_split=6, n_estimators=560; total time=   0.5s\n",
      "[CV] END max_depth=3, min_samples_leaf=7, min_samples_split=6, n_estimators=560; total time=   0.5s\n",
      "[CV] END max_depth=3, min_samples_leaf=7, min_samples_split=6, n_estimators=560; total time=   0.5s\n",
      "[CV] END max_depth=3, min_samples_leaf=7, min_samples_split=6, n_estimators=560; total time=   0.5s\n",
      "[CV] END max_depth=3, min_samples_leaf=7, min_samples_split=6, n_estimators=560; total time=   0.5s\n"
     ]
    },
    {
     "data": {
      "text/plain": [
       "RandomizedSearchCV(cv=5, estimator=RandomForestClassifier(), n_iter=20,\n",
       "                   param_distributions={'max_depth': [None, 3, 5, 10],\n",
       "                                        'min_samples_leaf': array([ 1,  3,  5,  7,  9, 11, 13, 15, 17, 19]),\n",
       "                                        'min_samples_split': array([ 2,  4,  6,  8, 10, 12, 14, 16, 18]),\n",
       "                                        'n_estimators': array([ 10,  60, 110, 160, 210, 260, 310, 360, 410, 460, 510, 560, 610,\n",
       "       660, 710, 760, 810, 860, 910, 960])},\n",
       "                   verbose=2)"
      ]
     },
     "execution_count": 107,
     "metadata": {},
     "output_type": "execute_result"
    }
   ],
   "source": [
    "np.random.seed(42)\n",
    "rs_rf = RandomizedSearchCV(estimator=RandomForestClassifier(),\n",
    "                               param_distributions=rf_grid,\n",
    "                               cv=5,\n",
    "                               n_iter=20,\n",
    "                               verbose=2)\n",
    "rs_rf.fit(X_train, y_train)"
   ]
  },
  {
   "cell_type": "code",
   "execution_count": 108,
   "id": "f02c7ff3",
   "metadata": {},
   "outputs": [
    {
     "data": {
      "text/plain": [
       "{'n_estimators': 210,\n",
       " 'min_samples_split': 4,\n",
       " 'min_samples_leaf': 19,\n",
       " 'max_depth': 3}"
      ]
     },
     "execution_count": 108,
     "metadata": {},
     "output_type": "execute_result"
    }
   ],
   "source": [
    "rs_rf.best_params_"
   ]
  },
  {
   "cell_type": "code",
   "execution_count": 110,
   "id": "dfbadd6a",
   "metadata": {},
   "outputs": [
    {
     "data": {
      "text/plain": [
       "0.8553719008264463"
      ]
     },
     "execution_count": 110,
     "metadata": {},
     "output_type": "execute_result"
    }
   ],
   "source": [
    "rs_rf.score(X_train, y_train)\n",
    "# Improvement! Base model scored 0.836066"
   ]
  },
  {
   "cell_type": "markdown",
   "id": "202fb6e2",
   "metadata": {},
   "source": [
    "### Tuning our model with GridSearchCV\n",
    "\n",
    "Logistic regression provides the best scores so far, we will try\n",
    "improve this further with exhaustive hyperparam search"
   ]
  },
  {
   "cell_type": "code",
   "execution_count": 111,
   "id": "a340fbdf",
   "metadata": {},
   "outputs": [
    {
     "data": {
      "text/plain": [
       "{'C': array([1.00000000e-04, 2.63665090e-04, 6.95192796e-04, 1.83298071e-03,\n",
       "        4.83293024e-03, 1.27427499e-02, 3.35981829e-02, 8.85866790e-02,\n",
       "        2.33572147e-01, 6.15848211e-01, 1.62377674e+00, 4.28133240e+00,\n",
       "        1.12883789e+01, 2.97635144e+01, 7.84759970e+01, 2.06913808e+02,\n",
       "        5.45559478e+02, 1.43844989e+03, 3.79269019e+03, 1.00000000e+04]),\n",
       " 'solver': ['liblinear', 'lbfgs']}"
      ]
     },
     "execution_count": 111,
     "metadata": {},
     "output_type": "execute_result"
    }
   ],
   "source": [
    "log_reg_grid"
   ]
  },
  {
   "cell_type": "code",
   "execution_count": 112,
   "id": "bc84d5f9",
   "metadata": {},
   "outputs": [
    {
     "name": "stdout",
     "output_type": "stream",
     "text": [
      "Fitting 5 folds for each of 60 candidates, totalling 300 fits\n"
     ]
    },
    {
     "data": {
      "text/plain": [
       "GridSearchCV(cv=5, estimator=LogisticRegression(),\n",
       "             param_grid={'C': array([1.00000000e-04, 1.88739182e-04, 3.56224789e-04, 6.72335754e-04,\n",
       "       1.26896100e-03, 2.39502662e-03, 4.52035366e-03, 8.53167852e-03,\n",
       "       1.61026203e-02, 3.03919538e-02, 5.73615251e-02, 1.08263673e-01,\n",
       "       2.04335972e-01, 3.85662042e-01, 7.27895384e-01, 1.37382380e+00,\n",
       "       2.59294380e+00, 4.89390092e+00, 9.23670857e+00, 1.74332882e+01,\n",
       "       3.29034456e+01, 6.21016942e+01, 1.17210230e+02, 2.21221629e+02,\n",
       "       4.17531894e+02, 7.88046282e+02, 1.48735211e+03, 2.80721620e+03,\n",
       "       5.29831691e+03, 1.00000000e+04]),\n",
       "                         'solver': ['liblinear', 'lbfgs']},\n",
       "             verbose=True)"
      ]
     },
     "execution_count": 112,
     "metadata": {},
     "output_type": "execute_result"
    }
   ],
   "source": [
    "log_reg_grid = {'C': np.logspace(-4, 4, 30),\n",
    "                'solver': ['liblinear', 'lbfgs']}\n",
    "\n",
    "gs_log_reg = GridSearchCV(LogisticRegression(),\n",
    "                          param_grid=log_reg_grid,\n",
    "                          cv=5,\n",
    "                          verbose=True)\n",
    "gs_log_reg.fit(X_train, y_train)"
   ]
  },
  {
   "cell_type": "code",
   "execution_count": 114,
   "id": "311b235b",
   "metadata": {},
   "outputs": [
    {
     "data": {
      "text/plain": [
       "{'C': 0.20433597178569418, 'solver': 'liblinear'}"
      ]
     },
     "execution_count": 114,
     "metadata": {},
     "output_type": "execute_result"
    }
   ],
   "source": [
    "gs_log_reg.best_params_"
   ]
  },
  {
   "cell_type": "code",
   "execution_count": 116,
   "id": "43906cb2",
   "metadata": {},
   "outputs": [
    {
     "data": {
      "text/plain": [
       "0.8852459016393442"
      ]
     },
     "execution_count": 116,
     "metadata": {},
     "output_type": "execute_result"
    }
   ],
   "source": [
    "gs_log_reg.score(X_test, y_test)\n",
    "# No improvement"
   ]
  },
  {
   "cell_type": "markdown",
   "id": "cd478590",
   "metadata": {},
   "source": [
    "## Evaluating our tuned model\n",
    "* ROC Curver and AUC score\n",
    "* Confusion matrics\n",
    "* Classification report\n",
    "* Precision\n",
    "* Recall\n",
    "* F1-Score"
   ]
  },
  {
   "cell_type": "code",
   "execution_count": 117,
   "id": "efb0774c",
   "metadata": {},
   "outputs": [],
   "source": [
    "y_preds = gs_log_reg.predict(X_test)"
   ]
  },
  {
   "cell_type": "code",
   "execution_count": 129,
   "id": "c5637c93",
   "metadata": {},
   "outputs": [
    {
     "data": {
      "image/png": "[encoded data removed]",
      "text/plain": [
       "<Figure size 432x288 with 1 Axes>"
      ]
     },
     "metadata": {
      "needs_background": "light"
     },
     "output_type": "display_data"
    }
   ],
   "source": [
    "plot_roc_curve(gs_log_reg, X_test, y_test)\n",
    "plt.title('ROC Curve (Receiver Operating Characteristic)');"
   ]
  },
  {
   "cell_type": "code",
   "execution_count": 130,
   "id": "5a54d93c",
   "metadata": {},
   "outputs": [
    {
     "data": {
      "image/png": "[encoded data removed]",
      "text/plain": [
       "<Figure size 432x288 with 2 Axes>"
      ]
     },
     "metadata": {
      "needs_background": "light"
     },
     "output_type": "display_data"
    }
   ],
   "source": [
    "plot_confusion_matrix(gs_log_reg, X_test, y_test, cmap='Blues_r')\n",
    "plt.title('Confusion Matrix on Test Data');\n",
    "\n",
    "# False negative of 3 :/"
   ]
  },
  {
   "cell_type": "code",
   "execution_count": 131,
   "id": "51c9c27f",
   "metadata": {},
   "outputs": [
    {
     "name": "stdout",
     "output_type": "stream",
     "text": [
      "              precision    recall  f1-score   support\n",
      "\n",
      "           0       0.89      0.86      0.88        29\n",
      "           1       0.88      0.91      0.89        32\n",
      "\n",
      "    accuracy                           0.89        61\n",
      "   macro avg       0.89      0.88      0.88        61\n",
      "weighted avg       0.89      0.89      0.89        61\n",
      "\n"
     ]
    }
   ],
   "source": [
    "print(classification_report(y_test, y_preds))"
   ]
  },
  {
   "cell_type": "markdown",
   "id": "34cd697a",
   "metadata": {},
   "source": [
    "### Evaluation metrics using Cross Validation"
   ]
  },
  {
   "cell_type": "code",
   "execution_count": 132,
   "id": "73d49593",
   "metadata": {},
   "outputs": [
    {
     "name": "stdout",
     "output_type": "stream",
     "text": [
      "Fitting 5 folds for each of 60 candidates, totalling 300 fits\n",
      "Fitting 5 folds for each of 60 candidates, totalling 300 fits\n",
      "Fitting 5 folds for each of 60 candidates, totalling 300 fits\n",
      "Fitting 5 folds for each of 60 candidates, totalling 300 fits\n",
      "Fitting 5 folds for each of 60 candidates, totalling 300 fits\n"
     ]
    },
    {
     "data": {
      "text/plain": [
       "array([0.81967213, 0.90163934, 0.86885246, 0.83333333, 0.75      ])"
      ]
     },
     "execution_count": 132,
     "metadata": {},
     "output_type": "execute_result"
    }
   ],
   "source": [
    "cross_val_score(gs_log_reg, X, y, scoring='')"
   ]
  },
  {
   "cell_type": "code",
   "execution_count": 133,
   "id": "2465cf9d",
   "metadata": {},
   "outputs": [
    {
     "data": {
      "text/plain": [
       "{'C': 0.20433597178569418, 'solver': 'liblinear'}"
      ]
     },
     "execution_count": 133,
     "metadata": {},
     "output_type": "execute_result"
    }
   ],
   "source": [
    "gs_log_reg.best_params_"
   ]
  },
  {
   "cell_type": "code",
   "execution_count": 165,
   "id": "257d981f",
   "metadata": {},
   "outputs": [],
   "source": [
    "def get_cv_score(clf, X, y, scoring):\n",
    "    scores = cross_val_score(clf, X, y, scoring=scoring).round(4)\n",
    "    avg = np.mean(scores).round(4)\n",
    "    print(scores)\n",
    "    print(f'Mean {scoring}: {avg}')\n",
    "    return scores.round(4), np.mean(scores)"
   ]
  },
  {
   "cell_type": "code",
   "execution_count": 166,
   "id": "b24aafc6",
   "metadata": {},
   "outputs": [],
   "source": [
    "clf = LogisticRegression(C=0.20433597178569418,\n",
    "                        solver='liblinear')"
   ]
  },
  {
   "cell_type": "code",
   "execution_count": 167,
   "id": "1f597876",
   "metadata": {},
   "outputs": [
    {
     "name": "stdout",
     "output_type": "stream",
     "text": [
      "[0.8197 0.9016 0.8689 0.8833 0.75  ]\n",
      "Mean accuracy: 0.8447\n"
     ]
    }
   ],
   "source": [
    "# Cross validated accuracy\n",
    "acc_scores, acc_avg = get_cv_score(clf, X, y, 'accuracy')"
   ]
  },
  {
   "cell_type": "code",
   "execution_count": 168,
   "id": "92efe369",
   "metadata": {},
   "outputs": [
    {
     "name": "stdout",
     "output_type": "stream",
     "text": [
      "[0.775  0.8857 0.8571 0.8611 0.725 ]\n",
      "Mean precision: 0.8208\n"
     ]
    }
   ],
   "source": [
    "# Cross validated precision\n",
    "prec_scores, prec_avg = get_cv_score(clf, X, y, 'precision')"
   ]
  },
  {
   "cell_type": "code",
   "execution_count": 169,
   "id": "dcd75755",
   "metadata": {},
   "outputs": [
    {
     "name": "stdout",
     "output_type": "stream",
     "text": [
      "[0.9394 0.9394 0.9091 0.9394 0.8788]\n",
      "Mean recall: 0.9212\n"
     ]
    }
   ],
   "source": [
    "# Cross validated recall\n",
    "rec_scores, rec_avg = get_cv_score(clf, X, y, 'recall')"
   ]
  },
  {
   "cell_type": "code",
   "execution_count": 170,
   "id": "687e095f",
   "metadata": {},
   "outputs": [
    {
     "name": "stdout",
     "output_type": "stream",
     "text": [
      "[0.8493 0.9118 0.8824 0.8986 0.7945]\n",
      "Mean f1: 0.8673\n"
     ]
    }
   ],
   "source": [
    "# Cross validated F1-score\n",
    "f1_scores, f1_avg = get_cv_score(clf, X, y, 'f1')"
   ]
  },
  {
   "cell_type": "code",
   "execution_count": 171,
   "id": "6fadf9ee",
   "metadata": {},
   "outputs": [
    {
     "data": {
      "image/png": "[encoded data removed]",
      "text/plain": [
       "<Figure size 432x288 with 1 Axes>"
      ]
     },
     "metadata": {
      "needs_background": "light"
     },
     "output_type": "display_data"
    }
   ],
   "source": [
    "# Visualising CV metrics\n",
    "cv_metrics = pd.DataFrame({'Accuracy': acc_avg,\n",
    "                          'Precision': prec_avg,\n",
    "                          'Recall': rec_avg,\n",
    "                          'F1': f1_avg},\n",
    "                         index=[0])\n",
    "\n",
    "cv_metrics.T.plot.bar(title='Cross-validated classification matrix',\n",
    "                     legend=False);"
   ]
  },
  {
   "cell_type": "markdown",
   "id": "f1db4971",
   "metadata": {},
   "source": [
    "### Feature Importance\n",
    "Which features contributed most to the outcomes of the model"
   ]
  },
  {
   "cell_type": "code",
   "execution_count": 175,
   "id": "918face7",
   "metadata": {},
   "outputs": [
    {
     "data": {
      "text/plain": [
       "LogisticRegression(C=0.20433597178569418, solver='liblinear')"
      ]
     },
     "execution_count": 175,
     "metadata": {},
     "output_type": "execute_result"
    }
   ],
   "source": [
    "clf = LogisticRegression(C=0.20433597178569418, solver='liblinear')\n",
    "clf.fit(X_train, y_train)"
   ]
  },
  {
   "cell_type": "code",
   "execution_count": 176,
   "id": "d11ce506",
   "metadata": {},
   "outputs": [
    {
     "data": {
      "text/plain": [
       "array([[ 0.00316728, -0.86044651,  0.66067041, -0.01156993, -0.00166374,\n",
       "         0.04386107,  0.31275847,  0.02459361, -0.6041308 , -0.56862804,\n",
       "         0.45051628, -0.63609897, -0.67663373]])"
      ]
     },
     "execution_count": 176,
     "metadata": {},
     "output_type": "execute_result"
    }
   ],
   "source": [
    "clf.coef_"
   ]
  },
  {
   "cell_type": "code",
   "execution_count": 180,
   "id": "a0ad777e",
   "metadata": {},
   "outputs": [
    {
     "data": {
      "text/plain": [
       "Index(['age', 'sex', 'cp', 'trestbps', 'chol', 'fbs', 'restecg', 'thalach',\n",
       "       'exang', 'oldpeak', 'slope', 'ca', 'thal', 'target'],\n",
       "      dtype='object')"
      ]
     },
     "execution_count": 180,
     "metadata": {},
     "output_type": "execute_result"
    }
   ],
   "source": [
    "df.columns"
   ]
  },
  {
   "cell_type": "code",
   "execution_count": 185,
   "id": "2c86bdb9",
   "metadata": {},
   "outputs": [
    {
     "data": {
      "text/plain": [
       "{'age': 0.0031672801993431563,\n",
       " 'sex': -0.8604465072345515,\n",
       " 'cp': 0.6606704082033799,\n",
       " 'trestbps': -0.01156993168080875,\n",
       " 'chol': -0.001663744504776871,\n",
       " 'fbs': 0.043861071652469864,\n",
       " 'restecg': 0.31275846822418324,\n",
       " 'thalach': 0.024593613737779126,\n",
       " 'exang': -0.6041308000615746,\n",
       " 'oldpeak': -0.5686280368396555,\n",
       " 'slope': 0.4505162797258308,\n",
       " 'ca': -0.6360989676086223,\n",
       " 'thal': -0.6766337263029825}"
      ]
     },
     "execution_count": 185,
     "metadata": {},
     "output_type": "execute_result"
    }
   ],
   "source": [
    "feature_dict = dict(zip(df.columns, clf.coef_[0]))\n",
    "feature_dict"
   ]
  },
  {
   "cell_type": "code",
   "execution_count": 194,
   "id": "2c4f6532",
   "metadata": {},
   "outputs": [
    {
     "data": {
      "text/plain": [
       "<Figure size 720x576 with 0 Axes>"
      ]
     },
     "metadata": {},
     "output_type": "display_data"
    },
    {
     "data": {
      "image/png": "[encoded data removed]",
      "text/plain": [
       "<Figure size 432x288 with 1 Axes>"
      ]
     },
     "metadata": {
      "needs_background": "light"
     },
     "output_type": "display_data"
    }
   ],
   "source": [
    "feature_df = pd.DataFrame(feature_dict,\n",
    "                         index=[0])\n",
    "plt.figure(figsize = (10,8))\n",
    "feature_df.T.plot(kind='bar', legend=False,\n",
    "                 title='Feature Importance');"
   ]
  },
  {
   "cell_type": "code",
   "execution_count": 195,
   "id": "9774a6d2",
   "metadata": {},
   "outputs": [
    {
     "data": {
      "text/html": [
       "<div>\n",
       "<style scoped>\n",
       "    .dataframe tbody tr th:only-of-type {\n",
       "        vertical-align: middle;\n",
       "    }\n",
       "\n",
       "    .dataframe tbody tr th {\n",
       "        vertical-align: top;\n",
       "    }\n",
       "\n",
       "    .dataframe thead th {\n",
       "        text-align: right;\n",
       "    }\n",
       "</style>\n",
       "<table border=\"1\" class=\"dataframe\">\n",
       "  <thead>\n",
       "    <tr style=\"text-align: right;\">\n",
       "      <th>target</th>\n",
       "      <th>0</th>\n",
       "      <th>1</th>\n",
       "    </tr>\n",
       "    <tr>\n",
       "      <th>sex</th>\n",
       "      <th></th>\n",
       "      <th></th>\n",
       "    </tr>\n",
       "  </thead>\n",
       "  <tbody>\n",
       "    <tr>\n",
       "      <th>0</th>\n",
       "      <td>24</td>\n",
       "      <td>72</td>\n",
       "    </tr>\n",
       "    <tr>\n",
       "      <th>1</th>\n",
       "      <td>114</td>\n",
       "      <td>93</td>\n",
       "    </tr>\n",
       "  </tbody>\n",
       "</table>\n",
       "</div>"
      ],
      "text/plain": [
       "target    0   1\n",
       "sex            \n",
       "0        24  72\n",
       "1       114  93"
      ]
     },
     "execution_count": 195,
     "metadata": {},
     "output_type": "execute_result"
    }
   ],
   "source": [
    "# As sex increases (ie goes from 0 to 1) the target variable decreases\n",
    "# (ie goes from 1 to 0), meaning that the likelihood of heart disease \n",
    "# falls under the male sex\n",
    "pd.crosstab(df['sex'], df['target'])"
   ]
  },
  {
   "cell_type": "code",
   "execution_count": 196,
   "id": "6c121c69",
   "metadata": {},
   "outputs": [],
   "source": [
    "# From here these results could change the way we collect data, reducing\n",
    "# the number of features we put into our model, concentrating on those\n",
    "# that have an impact, and removing those that arent contributing\n",
    "\n",
    "# A subject matter expert may be able to shed some light on the correlations\n",
    "# and relationships between the dependent and independant variables"
   ]
  },
  {
   "cell_type": "markdown",
   "id": "7a23e3df",
   "metadata": {},
   "source": [
    "## 6. Experimentation\n",
    "If we havent hit our evaluation metric yet, we could ask ourselves\n",
    "* Can we collect more data?\n",
    "* Can we try a better model? (Catboost, XGboost)\n",
    "* Can we improve current model (beyond the current)\n"
   ]
  },
  {
   "cell_type": "code",
   "execution_count": 197,
   "id": "ee368e70",
   "metadata": {},
   "outputs": [],
   "source": [
    "from xgboost import XGBClassifier"
   ]
  },
  {
   "cell_type": "code",
   "execution_count": 198,
   "id": "f8f8a3c0",
   "metadata": {},
   "outputs": [
    {
     "name": "stdout",
     "output_type": "stream",
     "text": [
      "[22:07:34] WARNING: C:/Users/Administrator/workspace/xgboost-win64_release_1.4.0/src/learner.cc:1095: Starting in XGBoost 1.3.0, the default evaluation metric used with the objective 'binary:logistic' was changed from 'error' to 'logloss'. Explicitly set eval_metric if you'd like to restore the old behavior.\n"
     ]
    }
   ],
   "source": [
    "xgb = XGBClassifier()\n",
    "xgb.fit(X_train,y_train)\n",
    "x_y_pred = xgb.predict(X_test)"
   ]
  },
  {
   "cell_type": "code",
   "execution_count": 201,
   "id": "3cee54ec",
   "metadata": {},
   "outputs": [
    {
     "name": "stdout",
     "output_type": "stream",
     "text": [
      "              precision    recall  f1-score   support\n",
      "\n",
      "           0       0.78      0.86      0.82        29\n",
      "           1       0.86      0.78      0.82        32\n",
      "\n",
      "    accuracy                           0.82        61\n",
      "   macro avg       0.82      0.82      0.82        61\n",
      "weighted avg       0.82      0.82      0.82        61\n",
      "\n"
     ]
    }
   ],
   "source": [
    "print(classification_report(y_test, x_y_pred))"
   ]
  },
  {
   "cell_type": "code",
   "execution_count": null,
   "id": "a176b5a1",
   "metadata": {},
   "outputs": [],
   "source": []
  }
 ],
 "metadata": {
  "kernelspec": {
   "display_name": "Python 3",
   "language": "python",
   "name": "python3"
  },
  "language_info": {
   "codemirror_mode": {
    "name": "ipython",
    "version": 3
   },
   "file_extension": ".py",
   "mimetype": "text/x-python",
   "name": "python",
   "nbconvert_exporter": "python",
   "pygments_lexer": "ipython3",
   "version": "3.9.4"
  }
 },
 "nbformat": 4,
 "nbformat_minor": 5
}
